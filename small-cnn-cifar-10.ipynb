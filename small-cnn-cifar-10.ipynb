{
 "cells": [
  {
   "cell_type": "markdown",
   "metadata": {},
   "source": [
    "# Training CIFAR-10 on a small CNN\n",
    "\n",
    "https://arxiv.org/pdf/1412.6806.pdf"
   ]
  },
  {
   "cell_type": "code",
   "execution_count": 1,
   "metadata": {},
   "outputs": [],
   "source": [
    "%reload_ext autoreload\n",
    "%autoreload 2\n",
    "%matplotlib inline\n",
    "import matplotlib.pyplot as plt\n",
    "\n",
    "import numpy as np\n",
    "import pandas as pd\n",
    "\n",
    "from pathlib import Path\n",
    "from sklearn import metrics\n",
    "import random\n",
    "\n",
    "import torch\n",
    "from torch.utils.data import Dataset, DataLoader\n",
    "import torch.optim as optim\n",
    "import torch.nn as nn\n",
    "import torch.nn.functional as F\n",
    "from torchvision import datasets, models\n",
    "\n",
    "from datetime import datetime\n",
    "import cv2"
   ]
  },
  {
   "cell_type": "code",
   "execution_count": 2,
   "metadata": {},
   "outputs": [],
   "source": [
    "import os\n",
    "from tqdm import tqdm_notebook"
   ]
  },
  {
   "cell_type": "code",
   "execution_count": 3,
   "metadata": {},
   "outputs": [],
   "source": [
    "PATH = Path(\"/data2/yinterian/data/\")"
   ]
  },
  {
   "cell_type": "markdown",
   "metadata": {},
   "source": [
    "## Import data from torchvision"
   ]
  },
  {
   "cell_type": "code",
   "execution_count": 4,
   "metadata": {},
   "outputs": [
    {
     "name": "stdout",
     "output_type": "stream",
     "text": [
      "Files already downloaded and verified\n",
      "Files already downloaded and verified\n"
     ]
    }
   ],
   "source": [
    "train_set = datasets.CIFAR10(root=PATH/'cifardata', \n",
    "                                         train=True, download=True)\n",
    "test_set = datasets.CIFAR10(root=PATH/'cifardata', \n",
    "                                        train=False, download=True)\n",
    "test_set, valid_set = torch.utils.data.random_split(test_set,(5000,5000))"
   ]
  },
  {
   "cell_type": "code",
   "execution_count": 5,
   "metadata": {},
   "outputs": [
    {
     "data": {
      "text/plain": [
       "6"
      ]
     },
     "execution_count": 5,
     "metadata": {},
     "output_type": "execute_result"
    }
   ],
   "source": [
    "x, y = train_set[200]\n",
    "y"
   ]
  },
  {
   "cell_type": "code",
   "execution_count": 6,
   "metadata": {},
   "outputs": [
    {
     "data": {
      "text/plain": [
       "<matplotlib.image.AxesImage at 0x7fb5ca8ab4c0>"
      ]
     },
     "execution_count": 6,
     "metadata": {},
     "output_type": "execute_result"
    },
    {
     "data": {
      "image/png": "[encoded data removed]",
      "text/plain": [
       "<Figure size 432x288 with 1 Axes>"
      ]
     },
     "metadata": {
      "needs_background": "light"
     },
     "output_type": "display_data"
    }
   ],
   "source": [
    "plt.imshow(x)"
   ]
  },
  {
   "cell_type": "code",
   "execution_count": 7,
   "metadata": {},
   "outputs": [
    {
     "data": {
      "text/plain": [
       "(32, 32, 3)"
      ]
     },
     "execution_count": 7,
     "metadata": {},
     "output_type": "execute_result"
    }
   ],
   "source": [
    "x = np.array(x)\n",
    "x.shape"
   ]
  },
  {
   "cell_type": "code",
   "execution_count": 8,
   "metadata": {},
   "outputs": [],
   "source": [
    "pad = 4\n",
    "x = cv2.copyMakeBorder(x, pad, pad, pad, pad, cv2.BORDER_REFLECT)"
   ]
  },
  {
   "cell_type": "code",
   "execution_count": 9,
   "metadata": {},
   "outputs": [
    {
     "data": {
      "text/plain": [
       "(40, 40, 3)"
      ]
     },
     "execution_count": 9,
     "metadata": {},
     "output_type": "execute_result"
    },
    {
     "data": {
      "image/png": "[encoded data removed]",
      "text/plain": [
       "<Figure size 432x288 with 1 Axes>"
      ]
     },
     "metadata": {
      "needs_background": "light"
     },
     "output_type": "display_data"
    }
   ],
   "source": [
    "plt.imshow(x)\n",
    "x.shape"
   ]
  },
  {
   "cell_type": "code",
   "execution_count": 11,
   "metadata": {},
   "outputs": [],
   "source": [
    "def read_image(path):\n",
    "    im = cv2.imread(str(path))\n",
    "    return cv2.cvtColor(im, cv2.COLOR_BGR2RGB)"
   ]
  },
  {
   "cell_type": "markdown",
   "metadata": {},
   "source": [
    "## Random transforms"
   ]
  },
  {
   "cell_type": "code",
   "execution_count": 12,
   "metadata": {},
   "outputs": [],
   "source": [
    "def crop(im, r, c, target_r, target_c): return im[r:r+target_r, c:c+target_c]\n",
    "\n",
    "def random_crop(x, r_pix=4):\n",
    "    \"\"\" Returns a random crop\"\"\"\n",
    "    r, c,*_ = x.shape\n",
    "    r, c,*_ = x.shape\n",
    "    c_pix = round(r_pix*c/r)\n",
    "    rand_r = random.uniform(0, 1)\n",
    "    rand_c = random.uniform(0, 1)\n",
    "    start_r = np.floor(2*rand_r*r_pix).astype(int)\n",
    "    start_c = np.floor(2*rand_c*c_pix).astype(int)\n",
    "    return crop(x, start_r, start_c, r-2*r_pix, c-2*c_pix)\n",
    "\n",
    "def center_crop(x, r_pix=4):\n",
    "    r, c,*_ = x.shape\n",
    "    c_pix = round(r_pix*c/r)\n",
    "    return crop(x, r_pix, c_pix, r-2*r_pix, c-2*c_pix)\n",
    "\n",
    "\n",
    "def rotate_cv(im, deg, mode=cv2.BORDER_REFLECT, interpolation=cv2.INTER_AREA):\n",
    "    \"\"\" Rotates an image by deg degrees\"\"\"\n",
    "    r,c,*_ = im.shape\n",
    "    M = cv2.getRotationMatrix2D((c/2,r/2),deg,1)\n",
    "    return cv2.warpAffine(im,M,(c,r), borderMode=mode, \n",
    "                          flags=cv2.WARP_FILL_OUTLIERS+interpolation)"
   ]
  },
  {
   "cell_type": "markdown",
   "metadata": {},
   "source": [
    "## Dataset"
   ]
  },
  {
   "cell_type": "code",
   "execution_count": 13,
   "metadata": {},
   "outputs": [],
   "source": [
    "class CIFAR10(Dataset):\n",
    "    \"\"\"\n",
    "    Basic Images DataSet\n",
    "    Args:\n",
    "        dataset: dataset with data\n",
    "        transform: True for training otherwise False\n",
    "    \"\"\"\n",
    "\n",
    "    def __init__(self, dataset, transform=False):\n",
    "        self.dataset = dataset\n",
    "        self.transform = transform\n",
    "\n",
    "    def __getitem__(self, index):\n",
    "        img, y = self.dataset[index]\n",
    "        x = np.array(img) / 255\n",
    "        if self.transform:\n",
    "            pad = 4\n",
    "            x = cv2.copyMakeBorder(x, pad, pad, pad, pad, cv2.BORDER_REFLECT)\n",
    "            x = random_crop(x)\n",
    "            if np.random.random() > 0.5: x = np.fliplr(x).copy()\n",
    "        \n",
    "        return np.rollaxis(x, 2), y\n",
    "\n",
    "    def __len__(self):\n",
    "        return len(self.dataset)"
   ]
  },
  {
   "cell_type": "code",
   "execution_count": 14,
   "metadata": {},
   "outputs": [],
   "source": [
    "train_ds = CIFAR10(train_set, transform=True)\n",
    "valid_ds = CIFAR10(valid_set)\n",
    "test_ds = CIFAR10(test_set)"
   ]
  },
  {
   "cell_type": "code",
   "execution_count": 15,
   "metadata": {},
   "outputs": [],
   "source": [
    "batch_size = 5\n",
    "train_dl = DataLoader(train_ds, batch_size=batch_size,  shuffle=True)\n",
    "valid_dl = DataLoader(valid_ds, batch_size=batch_size)"
   ]
  },
  {
   "cell_type": "code",
   "execution_count": 16,
   "metadata": {},
   "outputs": [
    {
     "data": {
      "text/plain": [
       "(3, 32, 32)"
      ]
     },
     "execution_count": 16,
     "metadata": {},
     "output_type": "execute_result"
    }
   ],
   "source": [
    "x, y = train_ds[0]\n",
    "x.shape"
   ]
  },
  {
   "cell_type": "code",
   "execution_count": 17,
   "metadata": {},
   "outputs": [
    {
     "data": {
      "text/plain": [
       "(3, 32, 32)"
      ]
     },
     "execution_count": 17,
     "metadata": {},
     "output_type": "execute_result"
    }
   ],
   "source": [
    "x, y = valid_ds[0]\n",
    "x.shape"
   ]
  },
  {
   "cell_type": "markdown",
   "metadata": {},
   "source": [
    "## Model \n",
    "\n",
    "AllConvNet is taken from the paper https://arxiv.org/pdf/1412.6806.pdf. It is a all convolution network that replaces max_pooling with stride2 convolutions. I added Batchnorm to every layer."
   ]
  },
  {
   "cell_type": "code",
   "execution_count": 18,
   "metadata": {},
   "outputs": [],
   "source": [
    "class AllConvNet(nn.Module):\n",
    "    def __init__(self, nc=3, n_classes=10, **kwargs):\n",
    "        super(AllConvNet, self).__init__()\n",
    "        self.conv1 = nn.Conv2d(nc, 96, 3, padding=1)\n",
    "        self.conv2 = nn.Conv2d(96, 96, 3, padding=1)\n",
    "        self.conv3 = nn.Conv2d(96, 96, 3, padding=1, stride=2)\n",
    "        self.conv4 = nn.Conv2d(96, 192, 3, padding=1)\n",
    "        self.conv5 = nn.Conv2d(192, 192, 3, padding=1)\n",
    "        self.conv6 = nn.Conv2d(192, 192, 3, padding=1, stride=2)\n",
    "        self.conv7 = nn.Conv2d(192, 192, 3, padding=1)\n",
    "        self.conv8 = nn.Conv2d(192, 192, 1)\n",
    "\n",
    "        self.bn1 = nn.BatchNorm2d(96)\n",
    "        self.bn2 = nn.BatchNorm2d(96)\n",
    "        self.bn3 = nn.BatchNorm2d(96)\n",
    "        self.bn4 = nn.BatchNorm2d(192)\n",
    "        self.bn5 = nn.BatchNorm2d(192)\n",
    "        self.bn6 = nn.BatchNorm2d(192)\n",
    "        self.bn7 = nn.BatchNorm2d(192)\n",
    "        self.bn8 = nn.BatchNorm2d(192)\n",
    "        self.bn9 = nn.BatchNorm2d(n_classes)\n",
    "        \n",
    "        self.class_conv = nn.Conv2d(192, n_classes, 1)\n",
    "\n",
    "    def forward(self, x):\n",
    "        #x = F.dropout(x, .1)\n",
    "        x = F.relu(self.bn1(self.conv1(x)))\n",
    "        x = F.relu(self.bn2(self.conv2(x)))\n",
    "        x = F.relu(self.bn3(self.conv3(x)))\n",
    "        #x = F.dropout(x, .1)\n",
    "        x = F.relu(self.bn4(self.conv4(x)))\n",
    "        x = F.relu(self.bn5(self.conv5(x)))\n",
    "        x = F.relu(self.bn6(self.conv6(x)))\n",
    "        #x = F.dropout(x, .1)\n",
    "        x = F.relu(self.bn7(self.conv7(x)))\n",
    "        x = F.relu(self.bn8(self.conv8(x)))\n",
    "\n",
    "        class_out = F.relu(self.bn9(self.class_conv(x)))\n",
    "        pool_out = F.adaptive_avg_pool2d(class_out, 1)\n",
    "        pool_out.squeeze_(-1)\n",
    "        pool_out.squeeze_(-1)\n",
    "        return pool_out"
   ]
  },
  {
   "cell_type": "code",
   "execution_count": 19,
   "metadata": {},
   "outputs": [],
   "source": [
    "model = AllConvNet().cuda()"
   ]
  },
  {
   "cell_type": "code",
   "execution_count": 20,
   "metadata": {},
   "outputs": [],
   "source": [
    "x,y = next(iter(train_dl))\n",
    "x = x.float().cuda()\n",
    "y = y.cuda()"
   ]
  },
  {
   "cell_type": "code",
   "execution_count": 21,
   "metadata": {},
   "outputs": [
    {
     "data": {
      "text/plain": [
       "tensor([[0.3813, 0.4824, 0.4288, 0.4722, 0.5418, 0.4526, 0.4354, 0.5737, 0.4515,\n",
       "         0.5095],\n",
       "        [0.4179, 0.5270, 0.3682, 0.3430, 0.5962, 0.4776, 0.4157, 0.4182, 0.3000,\n",
       "         0.4393],\n",
       "        [0.3645, 0.3055, 0.4715, 0.2769, 0.4366, 0.3981, 0.3586, 0.4792, 0.4850,\n",
       "         0.4833],\n",
       "        [0.3810, 0.2250, 0.4725, 0.3000, 0.2090, 0.2370, 0.3001, 0.2800, 0.4189,\n",
       "         0.2853],\n",
       "        [0.4453, 0.3563, 0.2410, 0.5814, 0.2007, 0.4294, 0.4115, 0.2306, 0.3743,\n",
       "         0.2563]], device='cuda:0', grad_fn=<SqueezeBackward3>)"
      ]
     },
     "execution_count": 21,
     "metadata": {},
     "output_type": "execute_result"
    }
   ],
   "source": [
    "# soft predictions\n",
    "pred = model(x)\n",
    "pred"
   ]
  },
  {
   "cell_type": "code",
   "execution_count": 22,
   "metadata": {},
   "outputs": [
    {
     "data": {
      "text/plain": [
       "torch.Size([5])"
      ]
     },
     "execution_count": 22,
     "metadata": {},
     "output_type": "execute_result"
    }
   ],
   "source": [
    "# hard predcitions\n",
    "_, hard_pred = torch.max(pred, 1)\n",
    "hard_pred.shape"
   ]
  },
  {
   "cell_type": "code",
   "execution_count": 23,
   "metadata": {},
   "outputs": [
    {
     "data": {
      "text/plain": [
       "2.227710247039795"
      ]
     },
     "execution_count": 23,
     "metadata": {},
     "output_type": "execute_result"
    }
   ],
   "source": [
    "F.cross_entropy(pred, y).item()"
   ]
  },
  {
   "cell_type": "code",
   "execution_count": 24,
   "metadata": {},
   "outputs": [
    {
     "data": {
      "text/plain": [
       "tensor(2, device='cuda:0')"
      ]
     },
     "execution_count": 24,
     "metadata": {},
     "output_type": "execute_result"
    }
   ],
   "source": [
    "# correctly classified\n",
    "(hard_pred == y).sum()"
   ]
  },
  {
   "cell_type": "markdown",
   "metadata": {},
   "source": [
    "## Metric: accuracy"
   ]
  },
  {
   "cell_type": "code",
   "execution_count": 25,
   "metadata": {},
   "outputs": [],
   "source": [
    "batch_size = 128\n",
    "train_dl = DataLoader(train_ds, batch_size=batch_size,  shuffle=True)\n",
    "valid_dl = DataLoader(valid_ds, batch_size=batch_size)"
   ]
  },
  {
   "cell_type": "code",
   "execution_count": 26,
   "metadata": {},
   "outputs": [],
   "source": [
    "def val_metric(model, valid_dl):\n",
    "    model.eval()\n",
    "    total = 0\n",
    "    sum_loss = 0\n",
    "    correct = 0\n",
    "    for x, y in valid_dl:\n",
    "        batch = y.shape[0]\n",
    "        x = x.cuda().float()\n",
    "        y = y.cuda().long()\n",
    "        pred = model(x)\n",
    "        loss = F.cross_entropy(pred, y)\n",
    "        _, hard_pred = torch.max(pred, 1)\n",
    "        correct += (hard_pred == y).sum()\n",
    "        sum_loss += batch*(loss.item())\n",
    "        total += batch\n",
    "    \n",
    "    return sum_loss/total, correct.item()/total"
   ]
  },
  {
   "cell_type": "code",
   "execution_count": 27,
   "metadata": {},
   "outputs": [
    {
     "data": {
      "text/plain": [
       "(2.3028709178924562, 0.1)"
      ]
     },
     "execution_count": 27,
     "metadata": {},
     "output_type": "execute_result"
    }
   ],
   "source": [
    "val_metric(model, valid_dl)"
   ]
  },
  {
   "cell_type": "markdown",
   "metadata": {},
   "source": [
    "## Training functions"
   ]
  },
  {
   "cell_type": "code",
   "execution_count": 28,
   "metadata": {},
   "outputs": [],
   "source": [
    "def cosine_segment(start_lr, end_lr, iterations):\n",
    "    i = np.arange(iterations)\n",
    "    c_i = 1 + np.cos(i*np.pi/iterations)\n",
    "    return end_lr + (start_lr - end_lr)/2 *c_i\n",
    "\n",
    "def get_cosine_triangular_lr(max_lr, iterations):\n",
    "    min_start, min_end = max_lr/25, max_lr/(25*1e4)\n",
    "    iter1 = int(0.3*iterations)\n",
    "    iter2 = iterations - iter1\n",
    "    segs = [cosine_segment(min_start, max_lr, iter1), cosine_segment(max_lr, min_end, iter2)]\n",
    "    return np.concatenate(segs)"
   ]
  },
  {
   "cell_type": "code",
   "execution_count": 29,
   "metadata": {},
   "outputs": [
    {
     "data": {
      "image/png": "[encoded data removed]",
      "text/plain": [
       "<Figure size 432x288 with 1 Axes>"
      ]
     },
     "metadata": {
      "needs_background": "light"
     },
     "output_type": "display_data"
    }
   ],
   "source": [
    "N = 2000\n",
    "lr = get_cosine_triangular_lr(0.001, N)\n",
    "plt.plot(list(range(N)), lr)\n",
    "plt.show()"
   ]
  },
  {
   "cell_type": "code",
   "execution_count": 30,
   "metadata": {},
   "outputs": [],
   "source": [
    "def create_optimizer(model, lr):\n",
    "    optimizer = torch.optim.Adam(model.parameters(), lr=lr)\n",
    "    return optimizer\n",
    "\n",
    "def update_optimizer(optimizer, lr):\n",
    "    for i, param_group in enumerate(optimizer.param_groups):\n",
    "        param_group[\"lr\"] = lr"
   ]
  },
  {
   "cell_type": "code",
   "execution_count": 31,
   "metadata": {},
   "outputs": [],
   "source": [
    "def train_triangular_policy(model, train_dl, valid_dl, max_lr=0.01, epochs = 5):\n",
    "    idx = 0\n",
    "    iterations = epochs*len(train_dl)\n",
    "    lrs = get_cosine_triangular_lr(max_lr, iterations)\n",
    "    optimizer = create_optimizer(model, lrs[0])\n",
    "    prev_val_auc = 0.0\n",
    "    for i in range(epochs):\n",
    "        model.train()\n",
    "        total = 0\n",
    "        sum_loss = 0\n",
    "        for x, y in train_dl:\n",
    "            update_optimizer(optimizer, lrs[idx])\n",
    "            batch = y.shape[0]\n",
    "            x = x.cuda().float()\n",
    "            y = y.cuda()\n",
    "            out = model(x)\n",
    "            loss = F.cross_entropy(out, y)\n",
    "            optimizer.zero_grad()\n",
    "            loss.backward()\n",
    "            optimizer.step()\n",
    "            idx += 1\n",
    "            total += batch\n",
    "            sum_loss += batch*(loss.item())\n",
    "        train_loss = sum_loss/total\n",
    "        val_loss, val_acc = val_metric(model, valid_dl)\n",
    "        print(\"train_loss %.3f val_loss %.3f val_acc %.3f\" % \n",
    "              (train_loss, val_loss, val_acc))\n",
    "    return sum_loss/total"
   ]
  },
  {
   "cell_type": "code",
   "execution_count": 177,
   "metadata": {},
   "outputs": [],
   "source": [
    "def save_model(m, p): torch.save(m.state_dict(), p)\n",
    "    \n",
    "def load_model(m, p): m.load_state_dict(torch.load(p))"
   ]
  },
  {
   "cell_type": "markdown",
   "metadata": {},
   "source": [
    "## Run Training\n",
    "\n",
    "Note that in the original paper the authors trained for 350 epochs. We obtain the same results with 25 epochs."
   ]
  },
  {
   "cell_type": "code",
   "execution_count": null,
   "metadata": {},
   "outputs": [
    {
     "name": "stdout",
     "output_type": "stream",
     "text": [
      "train_loss 1.566 val_loss 1.663 val_acc 0.468\n",
      "train_loss 1.088 val_loss 1.156 val_acc 0.608\n",
      "train_loss 0.807 val_loss 0.844 val_acc 0.714\n",
      "train_loss 0.635 val_loss 0.627 val_acc 0.786\n",
      "train_loss 0.519 val_loss 0.656 val_acc 0.781\n",
      "train_loss 0.423 val_loss 0.418 val_acc 0.859\n",
      "train_loss 0.337 val_loss 0.346 val_acc 0.886\n"
     ]
    }
   ],
   "source": [
    "# excluding top dropout\n",
    "model = AllConvNet().cuda()\n",
    "train_triangular_policy(model, train_dl, valid_dl, max_lr=0.01, epochs = 8)"
   ]
  },
  {
   "cell_type": "code",
   "execution_count": 215,
   "metadata": {},
   "outputs": [
    {
     "name": "stdout",
     "output_type": "stream",
     "text": [
      "train_loss 1.704 val_loss 1.982 val_acc 0.362\n",
      "train_loss 1.137 val_loss 1.167 val_acc 0.606\n",
      "train_loss 0.822 val_loss 0.942 val_acc 0.679\n",
      "train_loss 0.634 val_loss 0.795 val_acc 0.733\n",
      "train_loss 0.524 val_loss 0.606 val_acc 0.796\n",
      "train_loss 0.418 val_loss 0.409 val_acc 0.866\n",
      "train_loss 0.339 val_loss 0.340 val_acc 0.888\n",
      "train_loss 0.286 val_loss 0.326 val_acc 0.891\n"
     ]
    },
    {
     "data": {
      "text/plain": [
       "0.2862458397483826"
      ]
     },
     "execution_count": 215,
     "metadata": {},
     "output_type": "execute_result"
    }
   ],
   "source": [
    "# no drop out\n",
    "model = AllConvNet().cuda()\n",
    "train_triangular_policy(model, train_dl, valid_dl, max_lr=0.01, epochs = 8)"
   ]
  },
  {
   "cell_type": "code",
   "execution_count": 216,
   "metadata": {},
   "outputs": [
    {
     "name": "stdout",
     "output_type": "stream",
     "text": [
      "train_loss 1.875 val_loss 1.808 val_acc 0.402\n",
      "train_loss 1.198 val_loss 1.088 val_acc 0.638\n",
      "train_loss 0.837 val_loss 0.845 val_acc 0.716\n",
      "train_loss 0.650 val_loss 0.711 val_acc 0.762\n",
      "train_loss 0.544 val_loss 0.557 val_acc 0.806\n",
      "train_loss 0.455 val_loss 0.530 val_acc 0.815\n",
      "train_loss 0.383 val_loss 0.403 val_acc 0.867\n",
      "train_loss 0.311 val_loss 0.350 val_acc 0.880\n",
      "train_loss 0.256 val_loss 0.306 val_acc 0.901\n",
      "train_loss 0.224 val_loss 0.291 val_acc 0.902\n"
     ]
    },
    {
     "data": {
      "text/plain": [
       "0.22432616320610047"
      ]
     },
     "execution_count": 216,
     "metadata": {},
     "output_type": "execute_result"
    }
   ],
   "source": [
    "model = AllConvNet().cuda()\n",
    "train_triangular_policy(model, train_dl, valid_dl, max_lr=0.01, epochs = 10)"
   ]
  },
  {
   "cell_type": "code",
   "execution_count": 217,
   "metadata": {},
   "outputs": [
    {
     "name": "stdout",
     "output_type": "stream",
     "text": [
      "train_loss 1.845 val_loss 1.621 val_acc 0.529\n",
      "train_loss 1.293 val_loss 1.523 val_acc 0.480\n",
      "train_loss 0.908 val_loss 1.088 val_acc 0.634\n",
      "train_loss 0.711 val_loss 0.935 val_acc 0.691\n",
      "train_loss 0.596 val_loss 0.625 val_acc 0.791\n",
      "train_loss 0.510 val_loss 0.526 val_acc 0.819\n",
      "train_loss 0.445 val_loss 0.536 val_acc 0.822\n",
      "train_loss 0.384 val_loss 0.603 val_acc 0.796\n",
      "train_loss 0.342 val_loss 0.422 val_acc 0.862\n",
      "train_loss 0.292 val_loss 0.347 val_acc 0.881\n",
      "train_loss 0.247 val_loss 0.311 val_acc 0.895\n",
      "train_loss 0.206 val_loss 0.291 val_acc 0.905\n",
      "train_loss 0.168 val_loss 0.263 val_acc 0.913\n",
      "train_loss 0.145 val_loss 0.257 val_acc 0.914\n",
      "train_loss 0.133 val_loss 0.254 val_acc 0.916\n"
     ]
    },
    {
     "data": {
      "text/plain": [
       "0.13341955620765686"
      ]
     },
     "execution_count": 217,
     "metadata": {},
     "output_type": "execute_result"
    }
   ],
   "source": [
    "model = AllConvNet().cuda()\n",
    "train_triangular_policy(model, train_dl, valid_dl, max_lr=0.01, epochs = 15)"
   ]
  },
  {
   "cell_type": "code",
   "execution_count": 229,
   "metadata": {},
   "outputs": [
    {
     "name": "stdout",
     "output_type": "stream",
     "text": [
      "train_loss 1.917 val_loss 1.759 val_acc 0.496\n",
      "train_loss 1.447 val_loss 1.294 val_acc 0.621\n",
      "train_loss 1.024 val_loss 1.130 val_acc 0.635\n",
      "train_loss 0.770 val_loss 0.963 val_acc 0.681\n",
      "train_loss 0.637 val_loss 1.155 val_acc 0.641\n",
      "train_loss 0.563 val_loss 0.711 val_acc 0.760\n",
      "train_loss 0.502 val_loss 0.770 val_acc 0.735\n",
      "train_loss 0.440 val_loss 0.503 val_acc 0.830\n",
      "train_loss 0.399 val_loss 0.473 val_acc 0.840\n",
      "train_loss 0.362 val_loss 0.471 val_acc 0.844\n",
      "train_loss 0.331 val_loss 0.406 val_acc 0.868\n",
      "train_loss 0.303 val_loss 0.374 val_acc 0.874\n",
      "train_loss 0.271 val_loss 0.397 val_acc 0.874\n",
      "train_loss 0.245 val_loss 0.362 val_acc 0.878\n",
      "train_loss 0.217 val_loss 0.328 val_acc 0.890\n",
      "train_loss 0.194 val_loss 0.307 val_acc 0.901\n",
      "train_loss 0.167 val_loss 0.354 val_acc 0.885\n",
      "train_loss 0.141 val_loss 0.294 val_acc 0.904\n",
      "train_loss 0.116 val_loss 0.270 val_acc 0.912\n",
      "train_loss 0.098 val_loss 0.265 val_acc 0.918\n",
      "train_loss 0.082 val_loss 0.257 val_acc 0.920\n",
      "train_loss 0.067 val_loss 0.251 val_acc 0.924\n",
      "train_loss 0.058 val_loss 0.248 val_acc 0.924\n",
      "train_loss 0.055 val_loss 0.245 val_acc 0.925\n",
      "train_loss 0.052 val_loss 0.246 val_acc 0.927\n"
     ]
    },
    {
     "data": {
      "text/plain": [
       "0.05202201225042343"
      ]
     },
     "execution_count": 229,
     "metadata": {},
     "output_type": "execute_result"
    }
   ],
   "source": [
    "# with no dropout\n",
    "# this has the same error as the paper\n",
    "model = AllConvNet().cuda()\n",
    "train_triangular_policy(model, train_dl, valid_dl, max_lr=0.01, epochs = 25)"
   ]
  },
  {
   "cell_type": "code",
   "execution_count": 230,
   "metadata": {},
   "outputs": [],
   "source": [
    "test_dl = DataLoader(test_ds, batch_size=128)"
   ]
  },
  {
   "cell_type": "code",
   "execution_count": 231,
   "metadata": {},
   "outputs": [
    {
     "name": "stdout",
     "output_type": "stream",
     "text": [
      "0.2208082773208618 0.9316\n"
     ]
    }
   ],
   "source": [
    "test_loss, test_acc = val_metric(model, test_dl)\n",
    "print(test_loss, test_acc)"
   ]
  },
  {
   "cell_type": "code",
   "execution_count": 232,
   "metadata": {},
   "outputs": [
    {
     "data": {
      "text/plain": [
       "0.06840000000000002"
      ]
     },
     "execution_count": 232,
     "metadata": {},
     "output_type": "execute_result"
    }
   ],
   "source": [
    "1-0.9316"
   ]
  },
  {
   "cell_type": "markdown",
   "metadata": {},
   "source": [
    "## Effect of Batchnorm\n",
    "Create a new network without batchnorm and run similar experiments experiment."
   ]
  },
  {
   "cell_type": "markdown",
   "metadata": {},
   "source": [
    "## References\n",
    "* https://arxiv.org/pdf/1412.6806.pdf\n",
    "* https://discuss.pytorch.org/t/pytorch-net-from-striving-for-simplicity-the-all-convolutional-net/19297"
   ]
  },
  {
   "cell_type": "code",
   "execution_count": null,
   "metadata": {},
   "outputs": [],
   "source": []
  }
 ],
 "metadata": {
  "kernelspec": {
   "display_name": "Python 3",
   "language": "python",
   "name": "python3"
  },
  "language_info": {
   "codemirror_mode": {
    "name": "ipython",
    "version": 3
   },
   "file_extension": ".py",
   "mimetype": "text/x-python",
   "name": "python",
   "nbconvert_exporter": "python",
   "pygments_lexer": "ipython3",
   "version": "3.8.3"
  },
  "toc": {
   "base_numbering": 1,
   "nav_menu": {},
   "number_sections": true,
   "sideBar": true,
   "skip_h1_title": false,
   "title_cell": "Table of Contents",
   "title_sidebar": "Contents",
   "toc_cell": false,
   "toc_position": {},
   "toc_section_display": "block",
   "toc_window_display": false
  }
 },
 "nbformat": 4,
 "nbformat_minor": 2
}
