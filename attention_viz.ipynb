{
 "cells": [
  {
   "cell_type": "code",
   "execution_count": 9,
   "metadata": {},
   "outputs": [
    {
     "data": {
      "text/html": [
       "<span class=\"barcode\"; style=\"color: black; background-color: #4f9bcb\">&nbspThe&nbsp</span><span class=\"barcode\"; style=\"color: black; background-color: #cddff1\">&nbspquick&nbsp</span><span class=\"barcode\"; style=\"color: black; background-color: #d0e2f2\">&nbspbrown&nbsp</span><span class=\"barcode\"; style=\"color: black; background-color: #64a9d3\">&nbspfox&nbsp</span><span class=\"barcode\"; style=\"color: black; background-color: #97c6df\">&nbspjumps&nbsp</span><span class=\"barcode\"; style=\"color: black; background-color: #d0e1f2\">&nbspover&nbsp</span><span class=\"barcode\"; style=\"color: black; background-color: #d2e3f3\">&nbspthe&nbsp</span><span class=\"barcode\"; style=\"color: black; background-color: #b2d2e8\">&nbsplazy&nbsp</span><span class=\"barcode\"; style=\"color: black; background-color: #eaf2fb\">&nbspdog&nbsp</span>"
      ],
      "text/plain": [
       "<IPython.core.display.HTML object>"
      ]
     },
     "metadata": {},
     "output_type": "display_data"
    }
   ],
   "source": [
    "import numpy as np\n",
    "import matplotlib\n",
    "import matplotlib.pyplot as plt\n",
    "\n",
    "def colorize(words, color_array):\n",
    "    # words is a list of words\n",
    "    # color_array is an array of numbers between 0 and 1 of length equal to words\n",
    "    cmap=matplotlib.cm.Blues\n",
    "    #cmap = matplotlib.cm.get_cmap('RdBu')\n",
    "    template = '<span class=\"barcode\"; style=\"color: black; background-color: {}\">{}</span>'\n",
    "    colored_string = ''\n",
    "    for word, color in zip(words, color_array):\n",
    "        color = matplotlib.colors.rgb2hex(cmap(color)[:3])\n",
    "        colored_string += template.format(color, '&nbsp' + word + '&nbsp')\n",
    "    return colored_string\n",
    "    \n",
    "words = 'The quick brown fox jumps over the lazy dog'.split()\n",
    "color_array = np.random.rand(len(words))\n",
    "s = colorize(words, color_array)\n",
    "\n",
    "# to display in ipython notebook\n",
    "from IPython.display import display, HTML\n",
    "display(HTML(s))\n",
    "\n",
    "# or simply save in an html file and open in browser\n",
    "with open('colorize.html', 'w') as f:\n",
    "    f.write(s)"
   ]
  },
  {
   "cell_type": "markdown",
   "metadata": {},
   "source": [
    "## References\n",
    "* https://gist.github.com/ihsgnef/f13c35cd46624c8f458a4d23589ac768\n",
    "* https://stackoverflow.com/questions/59220488/to-visualize-attention-color-tokens-using-attention-weights"
   ]
  },
  {
   "cell_type": "code",
   "execution_count": null,
   "metadata": {},
   "outputs": [],
   "source": []
  }
 ],
 "metadata": {
  "kernelspec": {
   "display_name": "Python 3",
   "language": "python",
   "name": "python3"
  },
  "language_info": {
   "codemirror_mode": {
    "name": "ipython",
    "version": 3
   },
   "file_extension": ".py",
   "mimetype": "text/x-python",
   "name": "python",
   "nbconvert_exporter": "python",
   "pygments_lexer": "ipython3",
   "version": "3.7.6"
  },
  "toc": {
   "base_numbering": 1,
   "nav_menu": {},
   "number_sections": true,
   "sideBar": true,
   "skip_h1_title": false,
   "title_cell": "Table of Contents",
   "title_sidebar": "Contents",
   "toc_cell": false,
   "toc_position": {},
   "toc_section_display": true,
   "toc_window_display": false
  }
 },
 "nbformat": 4,
 "nbformat_minor": 4
}
