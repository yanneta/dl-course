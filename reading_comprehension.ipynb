{
 "cells": [
  {
   "cell_type": "markdown",
   "metadata": {},
   "source": [
    "# Reading Comprehension /Question Answering\n",
    "\n",
    "Code for the Attention reader describe in the paper: https://arxiv.org/pdf/1606.02858v2.pdf"
   ]
  },
  {
   "cell_type": "code",
   "execution_count": 1,
   "metadata": {},
   "outputs": [],
   "source": [
    "import torch\n",
    "\n",
    "import pandas as pd\n",
    "import numpy as np\n",
    "from pathlib import Path\n",
    "from torch.utils.data import Dataset, DataLoader\n",
    "import random\n",
    "import torch.optim as optim\n",
    "\n",
    "import matplotlib.pyplot as plt\n",
    "import torch.nn as nn\n",
    "import torch.nn.functional as F\n",
    "import math\n",
    "import pickle\n",
    "\n",
    "from torchtext.data import Field\n",
    "from torch.nn.utils.rnn import pack_padded_sequence, pad_packed_sequence\n",
    "\n",
    "from collections import Counter\n",
    "\n",
    "from tqdm.notebook import tqdm"
   ]
  },
  {
   "cell_type": "code",
   "execution_count": 2,
   "metadata": {},
   "outputs": [],
   "source": [
    "# change your path here\n",
    "PATH = Path(\"/data2/yinterian/reading_comprehension\")"
   ]
  },
  {
   "cell_type": "markdown",
   "metadata": {
    "heading_collapsed": true
   },
   "source": [
    "## Get data\n",
    "\n",
    "Get the data from here https://cs.nyu.edu/~kcho/DMQA/"
   ]
  },
  {
   "cell_type": "code",
   "execution_count": 3,
   "metadata": {
    "hidden": true
   },
   "outputs": [
    {
     "name": "stdout",
     "output_type": "stream",
     "text": [
      "\u001b[0m\u001b[01;34mtest\u001b[0m/  \u001b[01;34mtraining\u001b[0m/  \u001b[01;34mvalidation\u001b[0m/\r\n"
     ]
    }
   ],
   "source": [
    "ls $PATH/data/cnn/questions"
   ]
  },
  {
   "cell_type": "code",
   "execution_count": 4,
   "metadata": {
    "hidden": true
   },
   "outputs": [],
   "source": [
    "train_path = PATH/\"data/cnn/questions/training\"\n",
    "valid_path = PATH/\"data/cnn/questions/validation\"\n",
    "train_questions = list(Path(train_path).glob('*.question'))\n",
    "valid_questions = list(Path(valid_path).glob('*.question'))"
   ]
  },
  {
   "cell_type": "code",
   "execution_count": 5,
   "metadata": {
    "hidden": true
   },
   "outputs": [
    {
     "data": {
      "text/plain": [
       "(380298, 3924)"
      ]
     },
     "execution_count": 5,
     "metadata": {},
     "output_type": "execute_result"
    }
   ],
   "source": [
    "len(train_questions), len(valid_questions)"
   ]
  },
  {
   "cell_type": "code",
   "execution_count": 6,
   "metadata": {
    "hidden": true
   },
   "outputs": [
    {
     "data": {
      "text/plain": [
       "[PosixPath('/data2/yinterian/reading_comprehension/data/cnn/questions/training/8914bf26caeb006f46972fc09b6d54157f11c9a9.question'),\n",
       " PosixPath('/data2/yinterian/reading_comprehension/data/cnn/questions/training/8c95933a89ed1868c0a0c6b8eff519d71b9278f2.question'),\n",
       " PosixPath('/data2/yinterian/reading_comprehension/data/cnn/questions/training/2f97a8b7e4a2566bfafce1657a7ae3430ea873bf.question'),\n",
       " PosixPath('/data2/yinterian/reading_comprehension/data/cnn/questions/training/bc06dc9ba6b2e06961f0d147f80533e044aa8dbb.question'),\n",
       " PosixPath('/data2/yinterian/reading_comprehension/data/cnn/questions/training/700864902e8c607caf14bb436946cc74ecb5cef8.question')]"
      ]
     },
     "execution_count": 6,
     "metadata": {},
     "output_type": "execute_result"
    }
   ],
   "source": [
    "train_questions[:5]"
   ]
  },
  {
   "cell_type": "markdown",
   "metadata": {
    "hidden": true
   },
   "source": [
    "Note that this data has already been cleaned."
   ]
  },
  {
   "cell_type": "code",
   "execution_count": 7,
   "metadata": {
    "hidden": true
   },
   "outputs": [
    {
     "name": "stdout",
     "output_type": "stream",
     "text": [
      "http://web.archive.org/web/20150421065616id_/http://www.cnn.com/2015/01/02/politics/clinton-aide-white-house/\r\n",
      "\r\n",
      "@entity0 ( @entity1 ) the @entity4 administration 's top aide in charge of promoting @entity7 enrollment is leaving the @entity8 , possibly with eyes on helping another @entity10 win the job in 2016 . @entity12 , an aide to @entity14 's 2008 presidential campaign , is leaving the @entity8 to rejoin 270 strategies , a @entity17 consulting firm he helped found . \" i am thrilled today to announce i will be returning to the management team of 270 strategies , \" @entity12 , who served as deputy director of the @entity19 , said in a statement . \" i want to thank the president for the opportunity to serve and senior advisor @entity25 for being an amazing boss and mentor . \" word of @entity12 's departure from the @entity8 had been rumored for months , both inside and outside 270 strategies . @entity30 reported in december that he was thought to rejoin the consulting firm and the @entity32 broke the story friday morning . the now former @entity8 aide is close with @entity35 , an operative who many @entity17 see as the frontrunner for @entity38 's 2016 campaign manager job . @entity35 and @entity12 worked together on @entity38 and @entity4 's 2008 campaigns and share a small group of confidants and friends . if @entity43 is tapped for the top campaign job , @entity12 is expected to get a top position , too . the @entity46 oddly played out last year when emails for a group of people - the self - proclaimed \" @entity51 \" -- were leaked to @entity50 . in them , @entity12 -- who refers to himself as \" reverend \" - congratulated friends working on campaigns for \" crushing it mafia style . \" \" @entity58 . @entity51 till i die , \" @entity12 wrote in one email obtained by @entity50 . \" if you have just a few minutes , hop on that activate and punish those voters ! \" @entity12 said he was returning to 270 strategies because of the group 's commitment to \" doing big things and having a meaningful impact on the issues and communities we care about . \" \" it was our deep - seated belief that grassroots organizing is a necessary component to making change in those communities , \" @entity12 said . \" today , the 270 mission is stronger than ever , and i could not be more excited to rejoin the team . \"\r\n",
      "\r\n",
      "he is close with the man widely seen as the frontrunner to lead @placeholder 's possible 2016 campaign\r\n",
      "\r\n",
      "@entity38\r\n",
      "\r\n",
      "@entity17:Democratic\r\n",
      "@entity30:Buzzfeed\r\n",
      "@entity1:CNN\r\n",
      "@entity0:Washington\r\n",
      "@entity7:Obamacare\r\n",
      "@entity12:Marshall\r\n",
      "@entity4:Obama\r\n",
      "@entity38:Clinton\r\n",
      "@entity10:Democrat\r\n",
      "@entity46:Mook-Marshall\r\n",
      "@entity19:White House Office of Public Engagement\r\n",
      "@entity51:Mafia\r\n",
      "@entity50:ABC\r\n",
      "@entity25:Valerie Jarrett\r\n",
      "@entity32:Washington Post\r\n",
      "@entity43:Mook\r\n",
      "@entity35:Mook\r\n",
      "@entity14:Hillary Clinton\r\n",
      "@entity58:F U Republicans\r\n",
      "@entity8:White House"
     ]
    }
   ],
   "source": [
    "! cat $PATH/data/cnn/questions/training/55482c04581f3c7ca514c55f71c45230bdf4c824.question"
   ]
  },
  {
   "cell_type": "markdown",
   "metadata": {},
   "source": [
    "## Process the data"
   ]
  },
  {
   "cell_type": "code",
   "execution_count": 8,
   "metadata": {},
   "outputs": [],
   "source": [
    "def process_question(in_file):    \n",
    "    documents = []\n",
    "    questions = []\n",
    "    answers = []\n",
    "    num_examples = 0\n",
    "    f = open(in_file, 'r')\n",
    "    lines = f.readlines()\n",
    "    document = lines[2].strip()\n",
    "    question = lines[4].strip()\n",
    "    answer = lines[6].strip()\n",
    "    assert(\"@placeholder\" in question)\n",
    "    assert(\"@entity\" in answer)\n",
    "    f.close()\n",
    "    return document, question, answer"
   ]
  },
  {
   "cell_type": "code",
   "execution_count": 9,
   "metadata": {},
   "outputs": [],
   "source": [
    "def relabeling(document, question, answer):\n",
    "    \n",
    "    q_words = question.split(' ')\n",
    "    d_words = document.split(' ')\n",
    "    assert answer in d_words\n",
    "    \n",
    "\n",
    "    entity_dict = {}\n",
    "    entity_id = 0\n",
    "    for word in d_words + q_words:\n",
    "        if (word.startswith('@entity')) and (word not in entity_dict):\n",
    "            entity_dict[word] = '@entity' + str(entity_id)\n",
    "            entity_id += 1\n",
    "\n",
    "    q_words = [entity_dict[w] if w in entity_dict else w for w in q_words]\n",
    "    d_words = [entity_dict[w] if w in entity_dict else w for w in d_words]\n",
    "    answer = entity_dict[answer]\n",
    "    question = ' '.join(q_words)\n",
    "    document = ' '.join(d_words)\n",
    "\n",
    "    return document, question, answer  "
   ]
  },
  {
   "cell_type": "code",
   "execution_count": 10,
   "metadata": {},
   "outputs": [
    {
     "name": "stdout",
     "output_type": "stream",
     "text": [
      "new imacs sport the latest @entity10 i5 / i7 @placeholder architecture ==> @entity12\n",
      "new imacs sport the latest @entity2 i5 / i7 @placeholder architecture ==> @entity3\n"
     ]
    }
   ],
   "source": [
    "document, question, answer = process_question(train_questions[2])\n",
    "print(question, \"==>\", answer)\n",
    "document, question, answer = relabeling(document, question, answer)\n",
    "print(question, \"==>\", answer)"
   ]
  },
  {
   "cell_type": "code",
   "execution_count": 11,
   "metadata": {},
   "outputs": [],
   "source": [
    "def load_data(paths):\n",
    "    documents = []\n",
    "    questions = []\n",
    "    answers = []\n",
    "    for path in tqdm(paths):\n",
    "        document, question, answer = process_question(path)\n",
    "        document, question, answer = relabeling(document, question, answer)\n",
    "        documents.append(document)\n",
    "        questions.append(question)\n",
    "        answers.append(answer)\n",
    "    return documents, questions, answers"
   ]
  },
  {
   "cell_type": "code",
   "execution_count": 13,
   "metadata": {},
   "outputs": [],
   "source": [
    "# training\n",
    "#documents, questions, answers = load_data(train_questions)"
   ]
  },
  {
   "cell_type": "code",
   "execution_count": null,
   "metadata": {},
   "outputs": [],
   "source": [
    "def build_dict(sentences, max_words=50000):\n",
    "    \"\"\"\n",
    "        Build a dictionary for the words in `sentences`.\n",
    "        Only the max_words ones are kept and the remaining will be mapped to <UNK>.\n",
    "    \"\"\"\n",
    "    word_count = Counter()\n",
    "    for sent in sentences:\n",
    "        for w in sent.split(' '):\n",
    "            word_count[w] += 1\n",
    "\n",
    "    words = word_count.most_common(max_words)\n",
    "    # leave 0 to UNK\n",
    "    # leave 1 to delimiter |||\n",
    "    return {w[0]: index + 2 for (index, w) in enumerate(words)}"
   ]
  },
  {
   "cell_type": "code",
   "execution_count": 22,
   "metadata": {},
   "outputs": [],
   "source": [
    "word_dict = build_dict(documents + questions)\n",
    "pickle.dump(word_dict, open(PATH/\"word_dict.pickle\", 'wb'))"
   ]
  },
  {
   "cell_type": "code",
   "execution_count": 30,
   "metadata": {},
   "outputs": [],
   "source": [
    "entity_markers = list(set([w for w in word_dict.keys() if w.startswith('@entity')] + answers))\n",
    "entity_markers = ['<unk_entity>'] + entity_markers\n",
    "entity_dict = {w: index for (index, w) in enumerate(entity_markers)}"
   ]
  },
  {
   "cell_type": "code",
   "execution_count": 51,
   "metadata": {},
   "outputs": [],
   "source": [
    "#entity_dict"
   ]
  },
  {
   "cell_type": "code",
   "execution_count": 33,
   "metadata": {},
   "outputs": [
    {
     "data": {
      "text/plain": [
       "328"
      ]
     },
     "execution_count": 33,
     "metadata": {},
     "output_type": "execute_result"
    }
   ],
   "source": [
    "num_labels = len(entity_dict)\n",
    "num_labels"
   ]
  },
  {
   "cell_type": "code",
   "execution_count": 35,
   "metadata": {},
   "outputs": [],
   "source": [
    "def vectorize(documents, questions, answers, word_dict, entity_dict):\n",
    "    \"\"\"\n",
    "        Vectorize `examples`.\n",
    "        in_x1, in_x2: sequences for document and question respecitvely.\n",
    "        in_y: label\n",
    "        in_l: whether the entity label occurs in the document.\n",
    "    \"\"\"\n",
    "    in_x1 = []\n",
    "    in_x2 = []\n",
    "    in_l = np.zeros((len(documents), len(entity_dict)))\n",
    "    in_y = []\n",
    "    for idx, (d, q, a) in enumerate(zip(documents, questions, answers)):\n",
    "        d_words = d.split(' ')\n",
    "        q_words = q.split(' ')\n",
    "        assert (a in d_words)\n",
    "        seq1 = [word_dict[w] if w in word_dict else 0 for w in d_words]\n",
    "        seq2 = [word_dict[w] if w in word_dict else 0 for w in q_words]\n",
    "        if (len(seq1) > 0) and (len(seq2) > 0):\n",
    "            in_x1.append(seq1)\n",
    "            in_x2.append(seq2)\n",
    "            in_l[idx, [entity_dict[w] for w in d_words if w in entity_dict]] = 1.0\n",
    "            in_y.append(entity_dict[a] if a in entity_dict else 0)\n",
    "\n",
    "    return in_x1, in_x2, in_l, in_y"
   ]
  },
  {
   "cell_type": "code",
   "execution_count": 36,
   "metadata": {},
   "outputs": [],
   "source": [
    "train_x1, train_x2, train_l, train_y = vectorize(documents, questions, answers, word_dict, entity_dict)"
   ]
  },
  {
   "cell_type": "code",
   "execution_count": 48,
   "metadata": {},
   "outputs": [
    {
     "data": {
      "text/plain": [
       "[327, 2021, 5, 5863, 96, 62, 2, 4119, 7529, 11, 4801]"
      ]
     },
     "execution_count": 48,
     "metadata": {},
     "output_type": "execute_result"
    }
   ],
   "source": [
    "train_x2[1]"
   ]
  },
  {
   "cell_type": "code",
   "execution_count": 50,
   "metadata": {},
   "outputs": [
    {
     "data": {
      "text/plain": [
       "187"
      ]
     },
     "execution_count": 50,
     "metadata": {},
     "output_type": "execute_result"
    }
   ],
   "source": [
    "train_y[1]"
   ]
  },
  {
   "cell_type": "code",
   "execution_count": 53,
   "metadata": {},
   "outputs": [
    {
     "data": {
      "application/vnd.jupyter.widget-view+json": {
       "model_id": "c78f016048194f07ab8c0d12bef20fa3",
       "version_major": 2,
       "version_minor": 0
      },
      "text/plain": [
       "HBox(children=(FloatProgress(value=0.0, max=3924.0), HTML(value='')))"
      ]
     },
     "metadata": {},
     "output_type": "display_data"
    },
    {
     "name": "stdout",
     "output_type": "stream",
     "text": [
      "\n"
     ]
    }
   ],
   "source": [
    "documents, questions, answers = load_data(valid_questions)\n",
    "valid_x1, valid_x2, valid_l, valid_y = vectorize(documents, questions, answers, word_dict, entity_dict)"
   ]
  },
  {
   "cell_type": "code",
   "execution_count": 60,
   "metadata": {},
   "outputs": [
    {
     "data": {
      "text/plain": [
       "[96, 480, 504, 306, 10, 7200]"
      ]
     },
     "execution_count": 60,
     "metadata": {},
     "output_type": "execute_result"
    }
   ],
   "source": [
    "valid_x2[10]"
   ]
  },
  {
   "cell_type": "code",
   "execution_count": 57,
   "metadata": {},
   "outputs": [],
   "source": [
    "train_dict = {\"x1\": train_x1, \"x2\": train_x2, \"l\": train_l, \"y\": train_y}\n",
    "valid_dict = {\"x1\": valid_x1, \"x2\": valid_x2, \"l\": valid_l, \"y\": valid_y}\n",
    "pickle.dump(train_dict, open(PATH/\"train_dict.pickle\", 'wb'))\n",
    "pickle.dump(valid_dict, open(PATH/\"valid_dict.pickle\", 'wb'))"
   ]
  },
  {
   "cell_type": "markdown",
   "metadata": {},
   "source": [
    "## Dataset"
   ]
  },
  {
   "cell_type": "code",
   "execution_count": 7,
   "metadata": {},
   "outputs": [],
   "source": [
    "train_dict = pickle.load(open(PATH/\"train_dict.pickle\", \"rb\"))\n",
    "valid_dict  = pickle.load(open(PATH/\"valid_dict.pickle\", \"rb\"))"
   ]
  },
  {
   "cell_type": "code",
   "execution_count": 8,
   "metadata": {},
   "outputs": [
    {
     "data": {
      "text/plain": [
       "50000"
      ]
     },
     "execution_count": 8,
     "metadata": {},
     "output_type": "execute_result"
    }
   ],
   "source": [
    "word_dict = pickle.load(open(PATH/\"word_dict.pickle\", 'rb'))\n",
    "len(word_dict)"
   ]
  },
  {
   "cell_type": "code",
   "execution_count": 9,
   "metadata": {},
   "outputs": [
    {
     "data": {
      "text/plain": [
       "(380298, 3924)"
      ]
     },
     "execution_count": 9,
     "metadata": {},
     "output_type": "execute_result"
    }
   ],
   "source": [
    "len(train_dict[\"y\"]), len(valid_dict[\"y\"])"
   ]
  },
  {
   "cell_type": "code",
   "execution_count": 10,
   "metadata": {},
   "outputs": [],
   "source": [
    "class QADataset(Dataset):\n",
    "    def __init__(self, d_dict):\n",
    "        self.d_dict = d_dict \n",
    "\n",
    "    def __len__(self):\n",
    "        return len(self.d_dict[\"y\"])\n",
    "\n",
    "    def __getitem__(self, idx):\n",
    "        return self.d_dict[\"x1\"][idx], self.d_dict[\"x2\"][idx], self.d_dict[\"l\"][idx], self.d_dict[\"y\"][idx]"
   ]
  },
  {
   "cell_type": "code",
   "execution_count": 11,
   "metadata": {},
   "outputs": [],
   "source": [
    "train_ds = QADataset(train_dict)\n",
    "valid_ds = QADataset(valid_dict)"
   ]
  },
  {
   "cell_type": "markdown",
   "metadata": {},
   "source": [
    "Recall:\n",
    "* `x1` tokens from document\n",
    "* `x2` tokens from question\n",
    "* `l` entities present in the document\n",
    "* `y` answer"
   ]
  },
  {
   "cell_type": "code",
   "execution_count": 12,
   "metadata": {},
   "outputs": [],
   "source": [
    "x1, x2, l, y = train_ds[20]"
   ]
  },
  {
   "cell_type": "code",
   "execution_count": 13,
   "metadata": {},
   "outputs": [
    {
     "data": {
      "text/plain": [
       "([59, 14, 1063, 685, 42, 96, 327, 5, 1439, 2039, 13, 2, 346], 153)"
      ]
     },
     "execution_count": 13,
     "metadata": {},
     "output_type": "execute_result"
    }
   ],
   "source": [
    "x2, y"
   ]
  },
  {
   "cell_type": "code",
   "execution_count": 11,
   "metadata": {},
   "outputs": [
    {
     "data": {
      "text/plain": [
       "1069"
      ]
     },
     "execution_count": 11,
     "metadata": {},
     "output_type": "execute_result"
    }
   ],
   "source": [
    "len(x1)"
   ]
  },
  {
   "cell_type": "code",
   "execution_count": 12,
   "metadata": {},
   "outputs": [
    {
     "data": {
      "text/plain": [
       "(328, 19.0)"
      ]
     },
     "execution_count": 12,
     "metadata": {},
     "output_type": "execute_result"
    }
   ],
   "source": [
    "len(l), l.sum()"
   ]
  },
  {
   "cell_type": "code",
   "execution_count": 14,
   "metadata": {},
   "outputs": [],
   "source": [
    "def collate_fn(batch):\n",
    "    x1 = [torch.LongTensor(sample[0]) for sample in batch] \n",
    "    x2 = [torch.LongTensor(sample[1]) for sample in batch] \n",
    "    L = torch.LongTensor([sample[2] for sample in batch])\n",
    "    y = torch.LongTensor([sample[3] for sample in batch])\n",
    "    x1lens = np.array([len(seq) for seq in x1])\n",
    "    x2lens = np.array([len(seq) for seq in x2])\n",
    "    \n",
    "    # pad the batch\n",
    "    padded_x1 = torch.zeros(len(x1), x1lens.max()).long()\n",
    "    for idx, length in enumerate(x1lens):\n",
    "        padded_x1[idx, x1lens.max() - length:] = x1[idx]\n",
    "    \n",
    "    padded_x2 = torch.zeros(len(x2), x2lens.max()).long()\n",
    "    for idx, length in enumerate(x2lens):\n",
    "        padded_x2[idx, x2lens.max() - length:] = x2[idx]\n",
    "    \n",
    "    return (padded_x1, padded_x2, L, y)"
   ]
  },
  {
   "cell_type": "code",
   "execution_count": 13,
   "metadata": {},
   "outputs": [],
   "source": [
    "batch = [train_ds[0], train_ds[1], train_ds[10]]"
   ]
  },
  {
   "cell_type": "code",
   "execution_count": 14,
   "metadata": {},
   "outputs": [],
   "source": [
    "x1, x2, l, y = collate_fn(batch)"
   ]
  },
  {
   "cell_type": "code",
   "execution_count": 15,
   "metadata": {},
   "outputs": [
    {
     "data": {
      "text/plain": [
       "(torch.Size([3, 1184]),\n",
       " torch.Size([3, 13]),\n",
       " torch.Size([3, 328]),\n",
       " tensor([ 94, 187, 187]))"
      ]
     },
     "execution_count": 15,
     "metadata": {},
     "output_type": "execute_result"
    }
   ],
   "source": [
    "x1.shape, x2.shape, l.shape, y"
   ]
  },
  {
   "cell_type": "markdown",
   "metadata": {
    "heading_collapsed": true
   },
   "source": [
    "## Debugging Model"
   ]
  },
  {
   "cell_type": "code",
   "execution_count": 16,
   "metadata": {
    "hidden": true
   },
   "outputs": [],
   "source": [
    "train_dl = DataLoader(train_ds, batch_size=3, shuffle=False, collate_fn=collate_fn)\n",
    "x1, x2, l, y = next(iter(train_dl))"
   ]
  },
  {
   "cell_type": "code",
   "execution_count": 17,
   "metadata": {
    "hidden": true
   },
   "outputs": [],
   "source": [
    "vocab_size = 50000"
   ]
  },
  {
   "cell_type": "code",
   "execution_count": 18,
   "metadata": {
    "hidden": true
   },
   "outputs": [],
   "source": [
    "emb = nn.Embedding(vocab_size, 10, padding_idx=0)\n",
    "gru1 = nn.GRU(10, 7, batch_first=True)\n",
    "gru2 = nn.GRU(10, 5, batch_first=True)"
   ]
  },
  {
   "cell_type": "code",
   "execution_count": 19,
   "metadata": {
    "hidden": true
   },
   "outputs": [
    {
     "name": "stdout",
     "output_type": "stream",
     "text": [
      "torch.Size([3, 1184, 10]) torch.Size([3, 12, 10])\n"
     ]
    }
   ],
   "source": [
    "x1 = emb(x1)\n",
    "x2 = emb(x2)\n",
    "print(x1.shape, x2.shape)"
   ]
  },
  {
   "cell_type": "code",
   "execution_count": 20,
   "metadata": {
    "hidden": true
   },
   "outputs": [
    {
     "data": {
      "text/plain": [
       "(torch.Size([3, 1184, 7]), torch.Size([3, 5]))"
      ]
     },
     "execution_count": 20,
     "metadata": {},
     "output_type": "execute_result"
    }
   ],
   "source": [
    "hts1, ht1 = gru1(x1)\n",
    "hts2, ht2 = gru2(x2)\n",
    "hts1.shape, ht2[0].shape"
   ]
  },
  {
   "cell_type": "code",
   "execution_count": 21,
   "metadata": {
    "hidden": true
   },
   "outputs": [],
   "source": [
    "# Note this is just a matrix multiplication\n",
    "liner_att = nn.Linear(7, 5, bias=False)"
   ]
  },
  {
   "cell_type": "code",
   "execution_count": 22,
   "metadata": {
    "hidden": true
   },
   "outputs": [
    {
     "data": {
      "text/plain": [
       "torch.Size([3, 1184, 5])"
      ]
     },
     "execution_count": 22,
     "metadata": {},
     "output_type": "execute_result"
    }
   ],
   "source": [
    "Wp = liner_att(hts1)\n",
    "Wp.shape"
   ]
  },
  {
   "cell_type": "code",
   "execution_count": 23,
   "metadata": {
    "hidden": true
   },
   "outputs": [
    {
     "data": {
      "text/plain": [
       "torch.Size([3, 5, 1])"
      ]
     },
     "execution_count": 23,
     "metadata": {},
     "output_type": "execute_result"
    }
   ],
   "source": [
    "q = ht2[0].unsqueeze(2)\n",
    "q.shape"
   ]
  },
  {
   "cell_type": "code",
   "execution_count": 24,
   "metadata": {
    "hidden": true
   },
   "outputs": [
    {
     "data": {
      "text/plain": [
       "(torch.Size([3, 1184, 1]), torch.Size([3, 1184]))"
      ]
     },
     "execution_count": 24,
     "metadata": {},
     "output_type": "execute_result"
    }
   ],
   "source": [
    "qWp = torch.bmm(Wp, q)\n",
    "qWp.shape, qWp[:,:,0].shape"
   ]
  },
  {
   "cell_type": "code",
   "execution_count": 25,
   "metadata": {
    "hidden": true
   },
   "outputs": [],
   "source": [
    "alpha = F.softmax(qWp, dim=1)"
   ]
  },
  {
   "cell_type": "code",
   "execution_count": 26,
   "metadata": {
    "hidden": true
   },
   "outputs": [
    {
     "data": {
      "text/plain": [
       "tensor([[1.0000],\n",
       "        [1.0000],\n",
       "        [1.0000]], grad_fn=<SumBackward1>)"
      ]
     },
     "execution_count": 26,
     "metadata": {},
     "output_type": "execute_result"
    }
   ],
   "source": [
    "alpha.sum(1)"
   ]
  },
  {
   "cell_type": "code",
   "execution_count": 27,
   "metadata": {
    "hidden": true
   },
   "outputs": [
    {
     "data": {
      "text/plain": [
       "torch.Size([3, 1184, 1])"
      ]
     },
     "execution_count": 27,
     "metadata": {},
     "output_type": "execute_result"
    }
   ],
   "source": [
    "alpha.shape"
   ]
  },
  {
   "cell_type": "code",
   "execution_count": 28,
   "metadata": {
    "hidden": true
   },
   "outputs": [
    {
     "data": {
      "text/plain": [
       "torch.Size([3, 1184, 7])"
      ]
     },
     "execution_count": 28,
     "metadata": {},
     "output_type": "execute_result"
    }
   ],
   "source": [
    "hts1.shape"
   ]
  },
  {
   "cell_type": "code",
   "execution_count": 29,
   "metadata": {
    "hidden": true
   },
   "outputs": [
    {
     "data": {
      "text/plain": [
       "torch.Size([3, 7])"
      ]
     },
     "execution_count": 29,
     "metadata": {},
     "output_type": "execute_result"
    }
   ],
   "source": [
    "o = (alpha*hts1).sum(1)\n",
    "o.shape"
   ]
  },
  {
   "cell_type": "code",
   "execution_count": 30,
   "metadata": {
    "hidden": true
   },
   "outputs": [],
   "source": [
    "linear_out = nn.Linear(7, 328, bias=False)"
   ]
  },
  {
   "cell_type": "code",
   "execution_count": 31,
   "metadata": {
    "hidden": true
   },
   "outputs": [
    {
     "data": {
      "text/plain": [
       "torch.Size([3, 328])"
      ]
     },
     "execution_count": 31,
     "metadata": {},
     "output_type": "execute_result"
    }
   ],
   "source": [
    "out = linear_out(o)\n",
    "out.shape"
   ]
  },
  {
   "cell_type": "code",
   "execution_count": 32,
   "metadata": {
    "hidden": true
   },
   "outputs": [
    {
     "data": {
      "text/plain": [
       "torch.Size([3, 328])"
      ]
     },
     "execution_count": 32,
     "metadata": {},
     "output_type": "execute_result"
    }
   ],
   "source": [
    "l.shape"
   ]
  },
  {
   "cell_type": "code",
   "execution_count": 33,
   "metadata": {
    "hidden": true
   },
   "outputs": [],
   "source": [
    "# masking entities that do not appear in the document\n",
    "out2 = out*l"
   ]
  },
  {
   "cell_type": "code",
   "execution_count": 34,
   "metadata": {
    "hidden": true
   },
   "outputs": [
    {
     "data": {
      "text/plain": [
       "tensor(5.7445, grad_fn=<NllLossBackward>)"
      ]
     },
     "execution_count": 34,
     "metadata": {},
     "output_type": "execute_result"
    }
   ],
   "source": [
    "F.cross_entropy(out2, y)"
   ]
  },
  {
   "cell_type": "markdown",
   "metadata": {},
   "source": [
    "## Model"
   ]
  },
  {
   "cell_type": "code",
   "execution_count": 15,
   "metadata": {},
   "outputs": [],
   "source": [
    "vocab_size = 50000 + 2"
   ]
  },
  {
   "cell_type": "code",
   "execution_count": 16,
   "metadata": {},
   "outputs": [],
   "source": [
    "class AttentiveReader(nn.Module):\n",
    "\n",
    "    def __init__(self, vocab_size=vocab_size, emb_dim=100, hidden_dim=50, output_dim=328):\n",
    "        super(AttentiveReader, self).__init__()\n",
    "        self.emb = nn.Embedding(vocab_size, emb_dim, padding_idx=0)\n",
    "        self.gruD = nn.GRU(emb_dim, hidden_dim, batch_first=True)\n",
    "        self.gruQ = nn.GRU(emb_dim, hidden_dim, batch_first=True)\n",
    "        self.linear_att = nn.Linear(hidden_dim, hidden_dim)\n",
    "        self.linear_out = nn.Linear(hidden_dim, output_dim)\n",
    "        self.bn1 = nn.BatchNorm1d(hidden_dim)\n",
    "        self.bn2 = nn.BatchNorm1d(hidden_dim)\n",
    "        self.dropout = nn.Dropout(0.2)\n",
    "\n",
    "    def forward(self, x1, x2, l):\n",
    "        x1 = self.emb(x1)\n",
    "        x1 = self.dropout(x1)\n",
    "        x2 = self.emb(x2)\n",
    "        x2 = self.dropout(x2)\n",
    "        hts, _ = self.gruD(x1)\n",
    "        _, q = self.gruQ(x2)\n",
    "        Wp = self.linear_att(hts)\n",
    "        q = self.bn1(q[0])\n",
    "        qWp = torch.bmm(Wp, q.unsqueeze(2))\n",
    "        alpha = F.softmax(qWp, dim=1)\n",
    "        o = (alpha*hts).sum(1)\n",
    "        o = self.bn2(o) ## try also F.relu\n",
    "        out = self.linear_out(o)\n",
    "        return l*out"
   ]
  },
  {
   "cell_type": "code",
   "execution_count": 18,
   "metadata": {},
   "outputs": [],
   "source": [
    "model = AttentiveReader()"
   ]
  },
  {
   "cell_type": "code",
   "execution_count": 19,
   "metadata": {},
   "outputs": [],
   "source": [
    "train_dl = DataLoader(train_ds, batch_size=1000, shuffle=False, collate_fn=collate_fn)\n",
    "x1, x2, l, y = next(iter(train_dl))"
   ]
  },
  {
   "cell_type": "code",
   "execution_count": 21,
   "metadata": {},
   "outputs": [
    {
     "data": {
      "text/plain": [
       "tensor(5.7947, grad_fn=<NllLossBackward>)"
      ]
     },
     "execution_count": 21,
     "metadata": {},
     "output_type": "execute_result"
    }
   ],
   "source": [
    "out = model(x1, x2, l)\n",
    "F.cross_entropy(out, y)"
   ]
  },
  {
   "cell_type": "markdown",
   "metadata": {},
   "source": [
    "## Training functions"
   ]
  },
  {
   "cell_type": "code",
   "execution_count": 17,
   "metadata": {},
   "outputs": [],
   "source": [
    "def save_model(m, p): torch.save(m.state_dict(), p)\n",
    "    \n",
    "def load_model(m, p): m.load_state_dict(torch.load(p))"
   ]
  },
  {
   "cell_type": "code",
   "execution_count": 18,
   "metadata": {},
   "outputs": [],
   "source": [
    "def update_optimizer(optimizer, lr):\n",
    "    for i, param_group in enumerate(optimizer.param_groups):\n",
    "        param_group[\"lr\"] = lr"
   ]
  },
  {
   "cell_type": "code",
   "execution_count": 19,
   "metadata": {},
   "outputs": [],
   "source": [
    "def cosine_segment(start_lr, end_lr, iterations):\n",
    "    i = np.arange(iterations)\n",
    "    c_i = 1 + np.cos(i*np.pi/iterations)\n",
    "    return end_lr + (start_lr - end_lr)/2 *c_i\n",
    "\n",
    "def get_cosine_triangular_lr(max_lr, iterations):\n",
    "    min_start, min_end = max_lr/5, max_lr/10\n",
    "    iter1 = int(0.2*iterations)\n",
    "    iter2 = iterations - iter1\n",
    "    segs = [cosine_segment(min_start, max_lr, iter1), cosine_segment(max_lr, min_end, iter2)]\n",
    "    return np.concatenate(segs)"
   ]
  },
  {
   "cell_type": "code",
   "execution_count": 20,
   "metadata": {},
   "outputs": [
    {
     "data": {
      "image/png": "[encoded data removed]",
      "text/plain": [
       "<Figure size 432x288 with 1 Axes>"
      ]
     },
     "metadata": {
      "needs_background": "light"
     },
     "output_type": "display_data"
    }
   ],
   "source": [
    "N = 10000\n",
    "lr = get_cosine_triangular_lr(0.005, N)\n",
    "plt.plot(list(range(N)), lr)\n",
    "plt.show()"
   ]
  },
  {
   "cell_type": "code",
   "execution_count": 21,
   "metadata": {},
   "outputs": [],
   "source": [
    "def train_epocs(model, train_dl, valid_dl, optimizer, epochs=10, num_hidden=50, max_lr=0.005):\n",
    "    iterations = epochs*len(train_dl)\n",
    "    pbar = tqdm(total=iterations)\n",
    "    lrs = get_cosine_triangular_lr(max_lr, iterations)\n",
    "    best_acc = 0\n",
    "    ind = 0\n",
    "    for i in range(epochs):\n",
    "        model.train()\n",
    "        sum_loss = 0.0\n",
    "        total = 0\n",
    "        for x1, x2, l, y in train_dl:\n",
    "            update_optimizer(optimizer, lrs[ind])\n",
    "            x1 = x1.cuda()\n",
    "            x2 = x2.cuda()\n",
    "            l = l.cuda()\n",
    "            y = y.cuda()\n",
    "            y_pred = model(x1, x2, l)\n",
    "            optimizer.zero_grad()\n",
    "            loss = F.cross_entropy(y_pred, y)\n",
    "            loss.backward()\n",
    "            optimizer.step()\n",
    "            sum_loss += loss.item()*y.shape[0]\n",
    "            total += y.shape[0]\n",
    "            pbar.update()\n",
    "            ind +=1\n",
    "        val_loss, val_acc = val_metrics(model, valid_dl)\n",
    "        print(\"epoch % d train loss %.3f val loss %.3f and val accuracy %.3f\" % (\n",
    "            i, sum_loss/total, val_loss, val_acc))\n",
    "        if val_acc > best_acc:\n",
    "            path = \"{0}/models/model_att_acc_{1}_{2:.0f}.pth\".format(PATH, num_hidden, 100*val_acc) \n",
    "            save_model(model, path)\n",
    "            best_acc = val_acc\n",
    "            print(path)"
   ]
  },
  {
   "cell_type": "code",
   "execution_count": 22,
   "metadata": {},
   "outputs": [],
   "source": [
    "def val_metrics(model, valid_dl):\n",
    "    model.eval()\n",
    "    correct = 0\n",
    "    total = 0\n",
    "    sum_loss = 0.0\n",
    "    for x1, x2, l, y in valid_dl:\n",
    "        x1 = x1.cuda()\n",
    "        x2 = x2.cuda()\n",
    "        l = l.cuda()\n",
    "        y = y.cuda()\n",
    "        y_hat = model(x1, x2, l)\n",
    "        loss = F.cross_entropy(y_hat, y)\n",
    "        preds = torch.max(y_hat, dim=1)[1]\n",
    "        correct += (preds==y).float().sum().item()\n",
    "        total += y.shape[0]\n",
    "        sum_loss += loss.item()*y.shape[0]\n",
    "    return sum_loss/total, correct/total"
   ]
  },
  {
   "cell_type": "code",
   "execution_count": 23,
   "metadata": {},
   "outputs": [],
   "source": [
    "def update_optimizer(optimizer, lr):\n",
    "    for i, param_group in enumerate(optimizer.param_groups):\n",
    "        param_group[\"lr\"] = lr"
   ]
  },
  {
   "cell_type": "markdown",
   "metadata": {},
   "source": [
    "## Training \n",
    "hidden_dim=128"
   ]
  },
  {
   "cell_type": "code",
   "execution_count": 25,
   "metadata": {},
   "outputs": [],
   "source": [
    "batch_size=1000\n",
    "train_dl = DataLoader(train_ds, batch_size=batch_size, shuffle=True, collate_fn=collate_fn)\n",
    "valid_dl = DataLoader(valid_ds, batch_size=batch_size, shuffle=False, collate_fn=collate_fn)"
   ]
  },
  {
   "cell_type": "code",
   "execution_count": null,
   "metadata": {},
   "outputs": [
    {
     "data": {
      "application/vnd.jupyter.widget-view+json": {
       "model_id": "0bf6ec75843e4e3c81c2d639498a4390",
       "version_major": 2,
       "version_minor": 0
      },
      "text/plain": [
       "HBox(children=(FloatProgress(value=0.0, max=11430.0), HTML(value='')))"
      ]
     },
     "metadata": {},
     "output_type": "display_data"
    },
    {
     "name": "stdout",
     "output_type": "stream",
     "text": [
      "epoch  0 train loss 3.524 val loss 2.156 and val accuracy 0.387\n",
      "/data2/yinterian/reading_comprehension/models/model_att_acc_128_39.pth\n",
      "epoch  1 train loss 2.044 val loss 1.755 and val accuracy 0.520\n",
      "/data2/yinterian/reading_comprehension/models/model_att_acc_128_52.pth\n",
      "epoch  2 train loss 1.716 val loss 1.543 and val accuracy 0.584\n",
      "/data2/yinterian/reading_comprehension/models/model_att_acc_128_58.pth\n",
      "epoch  3 train loss 1.524 val loss 1.393 and val accuracy 0.630\n",
      "/data2/yinterian/reading_comprehension/models/model_att_acc_128_63.pth\n",
      "epoch  4 train loss 1.387 val loss 1.296 and val accuracy 0.657\n",
      "/data2/yinterian/reading_comprehension/models/model_att_acc_128_66.pth\n",
      "epoch  5 train loss 1.293 val loss 1.266 and val accuracy 0.662\n",
      "/data2/yinterian/reading_comprehension/models/model_att_acc_128_66.pth\n",
      "epoch  6 train loss 1.219 val loss 1.262 and val accuracy 0.663\n",
      "/data2/yinterian/reading_comprehension/models/model_att_acc_128_66.pth\n",
      "epoch  7 train loss 1.161 val loss 1.249 and val accuracy 0.672\n",
      "/data2/yinterian/reading_comprehension/models/model_att_acc_128_67.pth\n",
      "epoch  8 train loss 1.114 val loss 1.263 and val accuracy 0.674\n",
      "/data2/yinterian/reading_comprehension/models/model_att_acc_128_67.pth\n",
      "epoch  9 train loss 1.070 val loss 1.258 and val accuracy 0.670\n"
     ]
    }
   ],
   "source": [
    "model = AttentiveReader(hidden_dim=128).cuda()\n",
    "optimizer = torch.optim.Adam(model.parameters(), lr=0.005)\n",
    "train_epocs(model, train_dl, valid_dl, optimizer, epochs=30, num_hidden=128)"
   ]
  },
  {
   "cell_type": "code",
   "execution_count": null,
   "metadata": {},
   "outputs": [],
   "source": [
    "model = AttentiveReader(hidden_dim=128).cuda()\n",
    "optimizer = torch.optim.Adam(model.parameters(), lr=0.01)\n",
    "train_epocs(model, train_dl, valid_dl, optimizer, epochs=30, num_hidden=128, max_lr=0.01)"
   ]
  },
  {
   "cell_type": "code",
   "execution_count": null,
   "metadata": {},
   "outputs": [],
   "source": [
    "model = AttentiveReader(hidden_dim=128).cuda()\n",
    "optimizer = torch.optim.Adam(model.parameters(), lr=0.01)\n",
    "train_epocs(model, train_dl, valid_dl, optimizer, epochs=30, num_hidden=128, max_lr=0.1)"
   ]
  },
  {
   "cell_type": "markdown",
   "metadata": {},
   "source": [
    "## Training"
   ]
  },
  {
   "cell_type": "code",
   "execution_count": null,
   "metadata": {},
   "outputs": [],
   "source": [
    "batch_size=1400\n",
    "train_dl = DataLoader(train_ds, batch_size=batch_size, shuffle=True, collate_fn=collate_fn)\n",
    "valid_dl = DataLoader(valid_ds, batch_size=batch_size, shuffle=False, collate_fn=collate_fn)"
   ]
  },
  {
   "cell_type": "code",
   "execution_count": null,
   "metadata": {},
   "outputs": [],
   "source": [
    "model = AttentiveReaderBN(hidden_dim=50).cuda()\n",
    "optimizer = torch.optim.Adam(model.parameters(), lr=0.005)\n",
    "train_epocs(model, train_dl, valid_dl, optimizer, epochs=20, num_hidden=50)"
   ]
  },
  {
   "cell_type": "code",
   "execution_count": null,
   "metadata": {},
   "outputs": [],
   "source": [
    "model = AttentiveReader(hidden_dim=50).cuda()\n",
    "optimizer = torch.optim.Adam(model.parameters(), lr=0.005)\n",
    "train_epocs(model, train_dl, valid_dl, optimizer, epochs=30, num_hidden=50)"
   ]
  },
  {
   "cell_type": "code",
   "execution_count": null,
   "metadata": {},
   "outputs": [],
   "source": [
    "model = AttentiveReaderBN(hidden_dim=50).cuda()\n",
    "optimizer = torch.optim.Adam(model.parameters(), lr=0.01)\n",
    "train_epocs(model, train_dl, valid_dl, optimizer, epochs=30, num_hidden=50, lr=0.01)"
   ]
  },
  {
   "cell_type": "markdown",
   "metadata": {},
   "source": [
    "## Model v2\n",
    "* We need bidirectional LSTMs\n",
    "* Initialize with pre-trained embeddings"
   ]
  },
  {
   "cell_type": "markdown",
   "metadata": {},
   "source": [
    "## References\n",
    "* https://arxiv.org/pdf/1606.02858v2.pdf\n",
    "* https://github.com/danqi/rc-cnn-dailymail\n",
    "* "
   ]
  },
  {
   "cell_type": "code",
   "execution_count": null,
   "metadata": {},
   "outputs": [],
   "source": []
  }
 ],
 "metadata": {
  "kernelspec": {
   "display_name": "Python 3",
   "language": "python",
   "name": "python3"
  },
  "language_info": {
   "codemirror_mode": {
    "name": "ipython",
    "version": 3
   },
   "file_extension": ".py",
   "mimetype": "text/x-python",
   "name": "python",
   "nbconvert_exporter": "python",
   "pygments_lexer": "ipython3",
   "version": "3.7.6"
  },
  "toc": {
   "base_numbering": 1,
   "nav_menu": {},
   "number_sections": true,
   "sideBar": true,
   "skip_h1_title": false,
   "title_cell": "Table of Contents",
   "title_sidebar": "Contents",
   "toc_cell": false,
   "toc_position": {},
   "toc_section_display": true,
   "toc_window_display": false
  }
 },
 "nbformat": 4,
 "nbformat_minor": 4
}
