{
 "cells": [
  {
   "cell_type": "markdown",
   "metadata": {},
   "source": [
    "# Feed forward autoncoder"
   ]
  },
  {
   "cell_type": "code",
   "execution_count": 1,
   "metadata": {},
   "outputs": [],
   "source": [
    "%reload_ext autoreload\n",
    "%autoreload 2\n",
    "%matplotlib inline\n",
    "import matplotlib.pyplot as plt\n",
    "\n",
    "import numpy as np\n",
    "import pandas as pd\n",
    "\n",
    "from pathlib import Path\n",
    "from sklearn import metrics\n",
    "import random\n",
    "\n",
    "import torch\n",
    "from torch.utils.data import Dataset, DataLoader\n",
    "import torch.optim as optim\n",
    "import torch.nn as nn\n",
    "import torch.nn.functional as F\n",
    "from torchvision import datasets, models, transforms\n",
    "\n",
    "from datetime import datetime\n",
    "from torch.optim.optimizer import Optimizer\n",
    "import cv2"
   ]
  },
  {
   "cell_type": "code",
   "execution_count": 2,
   "metadata": {},
   "outputs": [],
   "source": [
    "import os\n",
    "from tqdm import tqdm_notebook"
   ]
  },
  {
   "cell_type": "code",
   "execution_count": 3,
   "metadata": {},
   "outputs": [],
   "source": [
    "PATH = Path(\"/data2/yinterian/data/\")"
   ]
  },
  {
   "cell_type": "markdown",
   "metadata": {},
   "source": [
    "## Import data from torchvision\n",
    "\n",
    "If no transforms are provided, torchvision returns PIL objects"
   ]
  },
  {
   "cell_type": "code",
   "execution_count": 4,
   "metadata": {},
   "outputs": [],
   "source": [
    "img_transform = transforms.Compose([\n",
    "    transforms.ToTensor(),\n",
    "    transforms.Normalize([0.5], [0.5])\n",
    "])\n",
    "train_ds = datasets.MNIST(PATH, train=True, download=True, transform=img_transform)\n",
    "valid_ds = datasets.MNIST(PATH, train=False, download=True, transform=img_transform)"
   ]
  },
  {
   "cell_type": "code",
   "execution_count": 5,
   "metadata": {},
   "outputs": [],
   "source": [
    "train_dl = DataLoader(train_ds, batch_size=5, shuffle=True)\n",
    "valid_dl = DataLoader(valid_ds, batch_size=5, shuffle=False)"
   ]
  },
  {
   "cell_type": "code",
   "execution_count": 8,
   "metadata": {},
   "outputs": [
    {
     "data": {
      "text/plain": [
       "(torch.Size([5, 1, 28, 28]), tensor([5, 8, 2, 2, 5]))"
      ]
     },
     "execution_count": 8,
     "metadata": {},
     "output_type": "execute_result"
    }
   ],
   "source": [
    "x, y = next(iter(train_dl))\n",
    "x.shape, y"
   ]
  },
  {
   "cell_type": "code",
   "execution_count": 9,
   "metadata": {},
   "outputs": [
    {
     "data": {
      "text/plain": [
       "(60000, 10000)"
      ]
     },
     "execution_count": 9,
     "metadata": {},
     "output_type": "execute_result"
    }
   ],
   "source": [
    "len(train_ds), len(valid_ds)"
   ]
  },
  {
   "cell_type": "code",
   "execution_count": 10,
   "metadata": {},
   "outputs": [
    {
     "data": {
      "text/plain": [
       "(torch.Size([28, 28]), tensor(5))"
      ]
     },
     "execution_count": 10,
     "metadata": {},
     "output_type": "execute_result"
    }
   ],
   "source": [
    "x[0][0].shape, y[0]"
   ]
  },
  {
   "cell_type": "code",
   "execution_count": 11,
   "metadata": {},
   "outputs": [
    {
     "data": {
      "text/plain": [
       "<matplotlib.image.AxesImage at 0x7fee9781dee0>"
      ]
     },
     "execution_count": 11,
     "metadata": {},
     "output_type": "execute_result"
    },
    {
     "data": {
      "image/png": "[encoded data removed]",
      "text/plain": [
       "<Figure size 432x288 with 1 Axes>"
      ]
     },
     "metadata": {
      "needs_background": "light"
     },
     "output_type": "display_data"
    }
   ],
   "source": [
    "plt.imshow(x[0][0], cmap='gray_r')"
   ]
  },
  {
   "cell_type": "markdown",
   "metadata": {},
   "source": [
    "## FNN autoencoder"
   ]
  },
  {
   "cell_type": "code",
   "execution_count": 12,
   "metadata": {},
   "outputs": [],
   "source": [
    "class autoencoder(nn.Module):\n",
    "    def __init__(self):\n",
    "        super(autoencoder, self).__init__()\n",
    "        self.encoder = nn.Sequential(\n",
    "            nn.Linear(28 * 28, 128), nn.ReLU(True),\n",
    "            nn.Linear(128, 64), nn.ReLU(True),\n",
    "            nn.Linear(64, 12), nn.ReLU(True),\n",
    "            nn.Linear(12, 3))\n",
    "        self.decoder = nn.Sequential(\n",
    "            nn.Linear(3, 12), nn.ReLU(True),\n",
    "            nn.Linear(12, 64), nn.ReLU(True),\n",
    "            nn.Linear(64, 128), nn.ReLU(True),\n",
    "            nn.Linear(128, 28 * 28), nn.Tanh())\n",
    "\n",
    "    def forward(self, x):\n",
    "        x = self.encoder(x)\n",
    "        x = self.decoder(x)\n",
    "        return x"
   ]
  },
  {
   "cell_type": "code",
   "execution_count": 13,
   "metadata": {},
   "outputs": [],
   "source": [
    "learning_rate = 1e-3"
   ]
  },
  {
   "cell_type": "code",
   "execution_count": 14,
   "metadata": {},
   "outputs": [],
   "source": [
    "model = autoencoder().cuda()\n",
    "optimizer = torch.optim.Adam(model.parameters(), lr=learning_rate, weight_decay=1e-5)"
   ]
  },
  {
   "cell_type": "code",
   "execution_count": 16,
   "metadata": {},
   "outputs": [],
   "source": [
    "x, y = next(iter(train_dl))\n",
    "x = x.float().cuda()"
   ]
  },
  {
   "cell_type": "code",
   "execution_count": 17,
   "metadata": {},
   "outputs": [
    {
     "data": {
      "text/plain": [
       "torch.Size([5, 784])"
      ]
     },
     "execution_count": 17,
     "metadata": {},
     "output_type": "execute_result"
    }
   ],
   "source": [
    "x = x.reshape(x.shape[0], -1)\n",
    "pred = model(x)\n",
    "pred.shape"
   ]
  },
  {
   "cell_type": "code",
   "execution_count": 18,
   "metadata": {},
   "outputs": [
    {
     "data": {
      "text/plain": [
       "0.9351300597190857"
      ]
     },
     "execution_count": 18,
     "metadata": {},
     "output_type": "execute_result"
    }
   ],
   "source": [
    "F.mse_loss(pred, x).item()"
   ]
  },
  {
   "cell_type": "markdown",
   "metadata": {},
   "source": [
    "## Metric: accuracy"
   ]
  },
  {
   "cell_type": "code",
   "execution_count": 19,
   "metadata": {},
   "outputs": [],
   "source": [
    "def val_metric(model, valid_dl):\n",
    "    model.eval()\n",
    "    total = 0\n",
    "    sum_loss = 0\n",
    "    correct = 0\n",
    "    with torch.no_grad():\n",
    "        for x, y in valid_dl:\n",
    "            batch = y.shape[0]\n",
    "            x = x.cuda().float().reshape(batch, -1)\n",
    "            pred = model(x)\n",
    "            loss = F.mse_loss(pred, x)\n",
    "            sum_loss += batch*(loss.item())\n",
    "            total += batch\n",
    "    \n",
    "    return sum_loss/total"
   ]
  },
  {
   "cell_type": "code",
   "execution_count": 21,
   "metadata": {},
   "outputs": [
    {
     "data": {
      "text/plain": [
       "0.9314303716421127"
      ]
     },
     "execution_count": 21,
     "metadata": {},
     "output_type": "execute_result"
    }
   ],
   "source": [
    "model = autoencoder().cuda()\n",
    "val_metric(model, valid_dl)"
   ]
  },
  {
   "cell_type": "markdown",
   "metadata": {},
   "source": [
    "## Training functions"
   ]
  },
  {
   "cell_type": "code",
   "execution_count": 22,
   "metadata": {},
   "outputs": [],
   "source": [
    "def save_model(m, p): torch.save(m.state_dict(), p)\n",
    "    \n",
    "def load_model(m, p): m.load_state_dict(torch.load(p))"
   ]
  },
  {
   "cell_type": "code",
   "execution_count": 27,
   "metadata": {},
   "outputs": [],
   "source": [
    "def train_with_precond(model, train_dl, valid_dl, optimizer, epochs = 5, pre_cond=False):\n",
    "    idx = 0\n",
    "    prev_val_auc = 0.0\n",
    "    for epoch in range(epochs):\n",
    "        model.train()\n",
    "        total = 0\n",
    "        sum_loss = 0\n",
    "        for x, y in train_dl:\n",
    "            batch = y.shape[0]\n",
    "            x = x.cuda().float().reshape(batch, -1)\n",
    "            out = model(x)\n",
    "            loss = F.mse_loss(out, x)\n",
    "            optimizer.zero_grad()\n",
    "            loss.backward()\n",
    "            if pre_cond:\n",
    "                preconditioner.step()\n",
    "            optimizer.step()\n",
    "            total += batch\n",
    "            sum_loss += batch*(loss.item())\n",
    "        train_loss = sum_loss/total\n",
    "        val_loss = val_metric(model, valid_dl)\n",
    "        print(\"train_loss %.3f val_loss %.3f \" % (train_loss, val_loss))\n",
    "        if epoch % 10 == 0:\n",
    "            path = '{}/models/autoencoder_epoch{}.pth'.format(PATH, epoch)\n",
    "            save_model(model, path)\n",
    "            \n",
    "    return sum_loss/total"
   ]
  },
  {
   "cell_type": "markdown",
   "metadata": {},
   "source": [
    "## Training autoencoders"
   ]
  },
  {
   "cell_type": "code",
   "execution_count": 28,
   "metadata": {},
   "outputs": [],
   "source": [
    "batch_size = 200\n",
    "train_dl = DataLoader(train_ds, batch_size=batch_size,  shuffle=True)\n",
    "valid_dl = DataLoader(valid_ds, batch_size=1000)"
   ]
  },
  {
   "cell_type": "code",
   "execution_count": 29,
   "metadata": {},
   "outputs": [],
   "source": [
    "learning_rate = 1e-3"
   ]
  },
  {
   "cell_type": "code",
   "execution_count": 30,
   "metadata": {},
   "outputs": [
    {
     "name": "stdout",
     "output_type": "stream",
     "text": [
      "train_loss 0.270 val_loss 0.212 \n",
      "train_loss 0.199 val_loss 0.187 \n",
      "train_loss 0.180 val_loss 0.173 \n",
      "train_loss 0.169 val_loss 0.166 \n",
      "train_loss 0.163 val_loss 0.161 \n",
      "train_loss 0.159 val_loss 0.158 \n",
      "train_loss 0.156 val_loss 0.155 \n",
      "train_loss 0.153 val_loss 0.152 \n",
      "train_loss 0.151 val_loss 0.150 \n",
      "train_loss 0.149 val_loss 0.148 \n",
      "train_loss 0.147 val_loss 0.146 \n",
      "train_loss 0.145 val_loss 0.145 \n",
      "train_loss 0.144 val_loss 0.144 \n",
      "train_loss 0.143 val_loss 0.143 \n",
      "train_loss 0.141 val_loss 0.141 \n",
      "train_loss 0.140 val_loss 0.140 \n",
      "train_loss 0.139 val_loss 0.139 \n",
      "train_loss 0.138 val_loss 0.139 \n",
      "train_loss 0.138 val_loss 0.137 \n",
      "train_loss 0.137 val_loss 0.137 \n",
      "train_loss 0.136 val_loss 0.136 \n",
      "train_loss 0.135 val_loss 0.136 \n",
      "train_loss 0.135 val_loss 0.135 \n",
      "train_loss 0.134 val_loss 0.134 \n",
      "train_loss 0.133 val_loss 0.134 \n",
      "train_loss 0.133 val_loss 0.134 \n",
      "train_loss 0.133 val_loss 0.133 \n",
      "train_loss 0.132 val_loss 0.133 \n",
      "train_loss 0.132 val_loss 0.132 \n",
      "train_loss 0.131 val_loss 0.132 \n",
      "train_loss 0.130 val_loss 0.132 \n",
      "train_loss 0.130 val_loss 0.132 \n",
      "train_loss 0.130 val_loss 0.132 \n",
      "train_loss 0.130 val_loss 0.131 \n",
      "train_loss 0.129 val_loss 0.131 \n",
      "train_loss 0.129 val_loss 0.130 \n",
      "train_loss 0.129 val_loss 0.130 \n",
      "train_loss 0.128 val_loss 0.129 \n",
      "train_loss 0.128 val_loss 0.129 \n",
      "train_loss 0.128 val_loss 0.129 \n",
      "train_loss 0.128 val_loss 0.129 \n",
      "train_loss 0.128 val_loss 0.129 \n",
      "train_loss 0.127 val_loss 0.129 \n",
      "train_loss 0.127 val_loss 0.128 \n",
      "train_loss 0.127 val_loss 0.128 \n",
      "train_loss 0.127 val_loss 0.128 \n",
      "train_loss 0.126 val_loss 0.128 \n",
      "train_loss 0.126 val_loss 0.127 \n",
      "train_loss 0.126 val_loss 0.127 \n",
      "train_loss 0.126 val_loss 0.127 \n",
      "train_loss 0.127 val_loss 0.128 \n",
      "train_loss 0.126 val_loss 0.126 \n",
      "train_loss 0.125 val_loss 0.127 \n",
      "train_loss 0.125 val_loss 0.127 \n",
      "train_loss 0.125 val_loss 0.127 \n",
      "train_loss 0.126 val_loss 0.127 \n",
      "train_loss 0.125 val_loss 0.127 \n",
      "train_loss 0.125 val_loss 0.127 \n",
      "train_loss 0.125 val_loss 0.126 \n",
      "train_loss 0.124 val_loss 0.126 \n",
      "train_loss 0.124 val_loss 0.126 \n",
      "train_loss 0.124 val_loss 0.127 \n",
      "train_loss 0.124 val_loss 0.126 \n",
      "train_loss 0.124 val_loss 0.126 \n",
      "train_loss 0.124 val_loss 0.126 \n",
      "train_loss 0.123 val_loss 0.125 \n",
      "train_loss 0.123 val_loss 0.125 \n",
      "train_loss 0.124 val_loss 0.125 \n",
      "train_loss 0.124 val_loss 0.125 \n",
      "train_loss 0.123 val_loss 0.124 \n",
      "train_loss 0.123 val_loss 0.125 \n",
      "train_loss 0.123 val_loss 0.124 \n",
      "train_loss 0.123 val_loss 0.125 \n",
      "train_loss 0.123 val_loss 0.125 \n",
      "train_loss 0.123 val_loss 0.124 \n",
      "train_loss 0.122 val_loss 0.126 \n",
      "train_loss 0.123 val_loss 0.126 \n",
      "train_loss 0.122 val_loss 0.125 \n",
      "train_loss 0.123 val_loss 0.123 \n",
      "train_loss 0.123 val_loss 0.125 \n",
      "train_loss 0.123 val_loss 0.124 \n",
      "train_loss 0.122 val_loss 0.124 \n",
      "train_loss 0.122 val_loss 0.125 \n",
      "train_loss 0.122 val_loss 0.124 \n",
      "train_loss 0.122 val_loss 0.124 \n",
      "train_loss 0.122 val_loss 0.123 \n",
      "train_loss 0.122 val_loss 0.125 \n",
      "train_loss 0.122 val_loss 0.124 \n",
      "train_loss 0.122 val_loss 0.124 \n",
      "train_loss 0.122 val_loss 0.123 \n",
      "train_loss 0.121 val_loss 0.123 \n",
      "train_loss 0.122 val_loss 0.123 \n",
      "train_loss 0.122 val_loss 0.124 \n",
      "train_loss 0.122 val_loss 0.123 \n",
      "train_loss 0.122 val_loss 0.123 \n",
      "train_loss 0.121 val_loss 0.124 \n",
      "train_loss 0.121 val_loss 0.123 \n",
      "train_loss 0.121 val_loss 0.123 \n",
      "train_loss 0.121 val_loss 0.123 \n",
      "train_loss 0.122 val_loss 0.124 \n"
     ]
    },
    {
     "data": {
      "text/plain": [
       "0.12166002136965592"
      ]
     },
     "execution_count": 30,
     "metadata": {},
     "output_type": "execute_result"
    }
   ],
   "source": [
    "model = autoencoder().cuda()\n",
    "optimizer = torch.optim.Adam(model.parameters(), lr=learning_rate, weight_decay=1e-5)\n",
    "train_with_precond(model, train_dl, valid_dl, optimizer, epochs = 100)"
   ]
  },
  {
   "cell_type": "markdown",
   "metadata": {},
   "source": [
    "## Visualizing results"
   ]
  },
  {
   "cell_type": "code",
   "execution_count": 47,
   "metadata": {},
   "outputs": [],
   "source": [
    "import matplotlib.pyplot as plt\n",
    "import numpy as np\n",
    "\n",
    "def plot_figures(x, x_hat, ncols=6):\n",
    "    \"\"\"Plot a dictionary of figures.\n",
    "\n",
    "    Parameters\n",
    "    ----------\n",
    "    figures : <title, figure> dictionary\n",
    "    ncols : number of columns of subplots wanted in the display\n",
    "    nrows : number of rows of subplots wanted in the figure\n",
    "    \"\"\"\n",
    "\n",
    "    fig, axs = plt.subplots(ncols=ncols, nrows=2, figsize=(15, 4))\n",
    "    plt.setp(axs, xticks=[], yticks=[])\n",
    "    for i in range(ncols):\n",
    "        axs[0, i].imshow(x[i], cmap='Greys')\n",
    "        axs[1, i].imshow(x_hat[i], cmap='Greys')\n",
    "    axs[0, 0].set_title('Actuals', loc=\"left\", size=25)\n",
    "    axs[1, 0].set_title('Predictions', loc=\"left\", size=25)\n",
    "    plt.tight_layout() # optional"
   ]
  },
  {
   "cell_type": "code",
   "execution_count": 48,
   "metadata": {},
   "outputs": [],
   "source": [
    "x, _ = next(iter(valid_dl))\n",
    "x1 = x.cuda().float().reshape(x.shape[0], -1)\n",
    "x_hat = model(x1)\n",
    "x_hat = x_hat.cpu().detach().numpy()\n",
    "x_hat = x_hat.reshape(x.shape[0], 28, 28)\n",
    "x = x[:, 0].numpy()"
   ]
  },
  {
   "cell_type": "code",
   "execution_count": 49,
   "metadata": {},
   "outputs": [
    {
     "data": {
      "text/plain": [
       "((1000, 28, 28), (1000, 28, 28))"
      ]
     },
     "execution_count": 49,
     "metadata": {},
     "output_type": "execute_result"
    }
   ],
   "source": [
    "x.shape, x_hat.shape "
   ]
  },
  {
   "cell_type": "code",
   "execution_count": 50,
   "metadata": {},
   "outputs": [
    {
     "data": {
      "image/png": "[encoded data removed]",
      "text/plain": [
       "<Figure size 1080x288 with 12 Axes>"
      ]
     },
     "metadata": {},
     "output_type": "display_data"
    }
   ],
   "source": [
    "plot_figures(x, x_hat)"
   ]
  },
  {
   "cell_type": "code",
   "execution_count": null,
   "metadata": {},
   "outputs": [],
   "source": []
  }
 ],
 "metadata": {
  "kernelspec": {
   "display_name": "Python 3",
   "language": "python",
   "name": "python3"
  },
  "language_info": {
   "codemirror_mode": {
    "name": "ipython",
    "version": 3
   },
   "file_extension": ".py",
   "mimetype": "text/x-python",
   "name": "python",
   "nbconvert_exporter": "python",
   "pygments_lexer": "ipython3",
   "version": "3.8.3"
  },
  "toc": {
   "base_numbering": 1,
   "nav_menu": {},
   "number_sections": true,
   "sideBar": true,
   "skip_h1_title": false,
   "title_cell": "Table of Contents",
   "title_sidebar": "Contents",
   "toc_cell": false,
   "toc_position": {},
   "toc_section_display": "block",
   "toc_window_display": false
  }
 },
 "nbformat": 4,
 "nbformat_minor": 2
}
